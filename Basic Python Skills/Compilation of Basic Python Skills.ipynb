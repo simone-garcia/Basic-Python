{
 "cells": [
  {
   "cell_type": "markdown",
   "metadata": {},
   "source": [
    "Basic Multiplication Function"
   ]
  },
  {
   "cell_type": "code",
   "execution_count": 1,
   "metadata": {},
   "outputs": [
    {
     "name": "stdout",
     "output_type": "stream",
     "text": [
      "Hello, this is Johnny Appleseed!\n",
      "He is 25 years old.\n",
      "He is currenty employed as an apple picker in his family's orchard.\n",
      "He picks 37700 apples and makes $30784.0 per year.\n"
     ]
    }
   ],
   "source": [
    "#Variables that withold a strings:\n",
    "name = \"Johnny Appleseed\"\n",
    "current_occupation = \"apple picker in his family's orchard.\"\n",
    "\n",
    "#Variables that withold integers:\n",
    "age = 25\n",
    "hourly_wage = 14.80\n",
    "hours_per_week = 40\n",
    "apples_picked_per_day = 145\n",
    "days_worked_per_week = 5 \n",
    "\n",
    "#Variables that calculate annual wage/apples picked:\n",
    "annual_wage = ((hourly_wage * hours_per_week) * 52)\n",
    "annual_apples = ((apples_picked_per_day * days_worked_per_week) * 52)\n",
    "\n",
    "#Print statements:\n",
    "print(\"Hello, this is \" + name + \"!\")\n",
    "print(\"He is \" + str(age) + \" years old.\")\n",
    "print(\"He is currenty employed as an \" + current_occupation)\n",
    "print(f\"He picks {annual_apples} apples and makes ${annual_wage} per year.\")"
   ]
  },
  {
   "cell_type": "markdown",
   "metadata": {},
   "source": [
    "Basic Input/Output"
   ]
  },
  {
   "cell_type": "code",
   "execution_count": 2,
   "metadata": {},
   "outputs": [
    {
     "name": "stdout",
     "output_type": "stream",
     "text": [
      "What is your name? Jessica\n",
      "Hello Jessica\n",
      "How old are you? 12\n",
      "You still have your entire life ahead of you.\n",
      "What do you do for a living? Study\n",
      "Working as a Study is a noble profession. \n",
      "So where are you from? Nashville\n",
      "It is a nice place to call home, isn't it?\n",
      "Thanks for chatting, I must go now.\n"
     ]
    }
   ],
   "source": [
    "#Collect user's name:\n",
    "name = input(\"What is your name? \")\n",
    "print(\"Hello \" + str(name))\n",
    "\n",
    "#Collect user's age:\n",
    "age = int(input(\"How old are you? \"))\n",
    "\n",
    "#Basic response via condition:\n",
    "if age < 50:\n",
    "    print(\"You still have your entire life ahead of you.\")\n",
    "else:\n",
    "    print(\"The things you have seen in this lifetime, am I right? XD\")\n",
    "\n",
    "#Collect user's occupation:\n",
    "occupation = input(\"What do you do for a living? \")\n",
    "print(\"Working as a \" + str(occupation) + \" is a noble profession. \")\n",
    "\n",
    "#Collect user's origin:\n",
    "origin = input(\"So where are you from? \")\n",
    "\n",
    "#Basic response via condition:\n",
    "if origin == \"Nashville\":\n",
    "    print(\"It is a nice place to call home, isn't it?\")\n",
    "else: \n",
    "    print(str(origin) + \", I can't say I've ever been.\")\n",
    "\n",
    "print(\"Thanks for chatting, I must go now.\")\n"
   ]
  },
  {
   "cell_type": "markdown",
   "metadata": {},
   "source": [
    "Basic Loops"
   ]
  },
  {
   "cell_type": "code",
   "execution_count": 4,
   "metadata": {},
   "outputs": [
    {
     "name": "stdout",
     "output_type": "stream",
     "text": [
      "1\n",
      "2\n",
      "3\n",
      "4\n",
      "5\n",
      "6\n",
      "7\n",
      "8\n",
      "9\n",
      "10\n",
      "11\n",
      "12\n",
      "13\n",
      "14\n",
      "15\n",
      "16\n",
      "17\n",
      "18\n",
      "19\n",
      "20\n",
      "***********************************\n",
      "S\n",
      "u\n",
      "p\n",
      "e\n",
      "r\n",
      "c\n",
      "a\n",
      "l\n",
      "i\n",
      "f\n",
      "r\n",
      "a\n",
      "g\n",
      "i\n",
      "l\n",
      "i\n",
      "s\n",
      "t\n",
      "i\n",
      "c\n",
      "e\n",
      "x\n",
      "p\n",
      "i\n",
      "a\n",
      "l\n",
      "i\n",
      "d\n",
      "o\n",
      "c\n",
      "i\n",
      "o\n",
      "u\n",
      "s\n",
      "***********************************\n",
      "What did I need from the store again?\n",
      "Milk\n",
      "Eggs\n",
      "Cheese\n",
      "Toilet Paper\n",
      "Dish Detergent\n",
      "***********************************\n",
      "Wanna see me run to that mountain and back?\n",
      "Wanna see me do it again? yes\n",
      "Wanna see me run to that mountain and back?\n",
      "Wanna see me do it again? yes\n",
      "Wanna see me run to that mountain and back?\n",
      "Wanna see me do it again? no\n"
     ]
    }
   ],
   "source": [
    "#Loop through a range of numbers (1 through 20). This will be up to, but not including 21. \n",
    "for x in range(1, 21):\n",
    "    print(x)\n",
    "\n",
    "print(\"***********************************\")\n",
    "\n",
    "#Iterate through letters in a string: \n",
    "word = \"Supercalifragilisticexpialidocious\"\n",
    "for letters in word:\n",
    "    print(letters)\n",
    "\n",
    "print(\"***********************************\")\n",
    "\n",
    "#Iterate through a list:\n",
    "groceries = [\"Milk\", \"Eggs\", \"Cheese\", \"Toilet Paper\", \"Dish Detergent\"]\n",
    "print(\"What did I need from the store again?\")\n",
    "for grocery in groceries:\n",
    "    print(grocery)\n",
    "\n",
    "print(\"***********************************\")\n",
    "\n",
    "#Looping with an condition:\n",
    "spongebob_reference = \"yes\"\n",
    "\n",
    "while spongebob_reference == \"yes\":\n",
    "    print(\"Wanna see me run to that mountain and back?\")\n",
    "    spongebob_reference = input(\"Wanna see me do it again? \")"
   ]
  },
  {
   "cell_type": "code",
   "execution_count": null,
   "metadata": {},
   "outputs": [],
   "source": []
  }
 ],
 "metadata": {
  "kernelspec": {
   "display_name": "Python 3",
   "language": "python",
   "name": "python3"
  },
  "language_info": {
   "codemirror_mode": {
    "name": "ipython",
    "version": 3
   },
   "file_extension": ".py",
   "mimetype": "text/x-python",
   "name": "python",
   "nbconvert_exporter": "python",
   "pygments_lexer": "ipython3",
   "version": "3.6.9"
  }
 },
 "nbformat": 4,
 "nbformat_minor": 2
}

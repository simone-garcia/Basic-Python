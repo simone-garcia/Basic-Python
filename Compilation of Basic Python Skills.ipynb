{
 "cells": [
  {
   "cell_type": "markdown",
   "metadata": {},
   "source": [
    "Basic Multiplication Function"
   ]
  },
  {
   "cell_type": "code",
   "execution_count": 1,
   "metadata": {},
   "outputs": [
    {
     "name": "stdout",
     "output_type": "stream",
     "text": [
      "Hello, this is Johnny Appleseed!\n",
      "He is 25 years old.\n",
      "He is currenty employed as an apple picker in his family's orchard.\n",
      "He picks 37700 apples and makes $30784.0 per year.\n"
     ]
    }
   ],
   "source": [
    "#Variables that withold a strings:\n",
    "name = \"Johnny Appleseed\"\n",
    "current_occupation = \"apple picker in his family's orchard.\"\n",
    "\n",
    "#Variables that withold integers:\n",
    "age = 25\n",
    "hourly_wage = 14.80\n",
    "hours_per_week = 40\n",
    "apples_picked_per_day = 145\n",
    "days_worked_per_week = 5 \n",
    "\n",
    "#Variables that calculate annual wage/apples picked:\n",
    "annual_wage = ((hourly_wage * hours_per_week) * 52)\n",
    "annual_apples = ((apples_picked_per_day * days_worked_per_week) * 52)\n",
    "\n",
    "#Print statements:\n",
    "print(\"Hello, this is \" + name + \"!\")\n",
    "print(\"He is \" + str(age) + \" years old.\")\n",
    "print(\"He is currenty employed as an \" + current_occupation)\n",
    "print(f\"He picks {annual_apples} apples and makes ${annual_wage} per year.\")"
   ]
  },
  {
   "cell_type": "code",
   "execution_count": null,
   "metadata": {},
   "outputs": [],
   "source": []
  }
 ],
 "metadata": {
  "kernelspec": {
   "display_name": "Python 3",
   "language": "python",
   "name": "python3"
  },
  "language_info": {
   "codemirror_mode": {
    "name": "ipython",
    "version": 3
   },
   "file_extension": ".py",
   "mimetype": "text/x-python",
   "name": "python",
   "nbconvert_exporter": "python",
   "pygments_lexer": "ipython3",
   "version": "3.6.9"
  }
 },
 "nbformat": 4,
 "nbformat_minor": 2
}
